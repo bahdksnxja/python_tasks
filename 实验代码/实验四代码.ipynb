{
 "cells": [
  {
   "cell_type": "code",
   "execution_count": null,
   "metadata": {},
   "outputs": [
    {
     "name": "stdout",
     "output_type": "stream",
     "text": [
      "dics['list']:列表\n",
      "dics['var']:变量\n",
      "dics['int']:整型\n",
      "dics['boolean']:布尔\n",
      "dics['str']:字符串\n"
     ]
    }
   ],
   "source": [
    "#练习6.3\n",
    "dics = {\n",
    "    'list':'列表',\n",
    "    'var':'变量',\n",
    "    'int':'整型',\n",
    "    'boolean':'布尔',\n",
    "    'str':'字符串'\n",
    "    }\n",
    "print('dics[\\'list\\']'+':' + dics['list'])\n",
    "print('dics[\\'var\\']'+':' + dics['var'])\n",
    "print('dics[\\'int\\']'+':' + dics['int'])\n",
    "print('dics[\\'boolean\\']'+':' + dics['boolean'])\n",
    "print('dics[\\'str\\']'+':' + dics['str'])\n"
   ]
  },
  {
   "cell_type": "code",
   "execution_count": 6,
   "metadata": {},
   "outputs": [
    {
     "name": "stdout",
     "output_type": "stream",
     "text": [
      "The A runs through Aa.\n",
      "The B runs through Bb.\n",
      "The C runs through Cc.\n",
      "The D runs through Dd.\n",
      "a\n",
      "b\n",
      "c\n",
      "d\n",
      "aa\n",
      "bb\n",
      "cc\n",
      "dd\n"
     ]
    }
   ],
   "source": [
    "#练习6.5\n",
    "water={\n",
    "    'a' : 'aa',\n",
    "    'b' : 'bb',\n",
    "    'c' : 'cc',\n",
    "    'd' : 'dd'\n",
    "}\n",
    "for w,n in water.items():\n",
    "    print(f\"The {w.title()} runs through {n.title()}.\")\n",
    "for w in water.keys():\n",
    "    print(w)\n",
    "for n in water.values():\n",
    "    print(n)"
   ]
  },
  {
   "cell_type": "code",
   "execution_count": 7,
   "metadata": {},
   "outputs": [
    {
     "name": "stdout",
     "output_type": "stream",
     "text": [
      "yuan_lin\n",
      "name:yuan lin\n",
      "old:24\n",
      "thinks:happy\n",
      "friend:zhao hailin\n",
      "urban:Bei jing\n",
      "\n",
      "\n",
      "zhao_hai_lin\n",
      "name:zhao hai lin\n",
      "old:24\n",
      "thinks:happy\n",
      "friend:yuan lin\n",
      "urban:Bei jing\n",
      "\n",
      "\n",
      "wang_jin\n",
      "name:wang jin\n",
      "old:24\n",
      "thinks:happy\n",
      "friend:wang jin\n",
      "urban:Bei jing\n",
      "\n",
      "\n"
     ]
    }
   ],
   "source": [
    "#练习6.9\n",
    "favorite_places={\n",
    "    'yuan_lin':{\n",
    "        'name':'yuan lin',\n",
    "        'old':24,\n",
    "        'thinks':'happy',\n",
    "        'friend':'zhao hailin',\n",
    "        'urban':'Bei jing',\n",
    "        },\n",
    "\n",
    "    'zhao_hai_lin':{\n",
    "        'name':'zhao hai lin',\n",
    "        'old':24,\n",
    "        'thinks':'happy',\n",
    "        'friend':'yuan lin',\n",
    "        'urban':'Bei jing',\n",
    "        },\n",
    "\n",
    "    'wang_jin':{\n",
    "        'name':'wang jin',\n",
    "        'old':24,\n",
    "        'thinks':'happy',\n",
    "        'friend':'wang jin',\n",
    "        'urban':'Bei jing',\n",
    "        },\n",
    "    }\n",
    "for peoples,lis in favorite_places.items():\n",
    "    print(peoples)\n",
    "    for n,m in lis.items():\n",
    "        print(f\"{n}:{m}\")\n",
    "    print('\\n')\n"
   ]
  },
  {
   "cell_type": "code",
   "execution_count": 1,
   "metadata": {},
   "outputs": [
    {
     "name": "stdout",
     "output_type": "stream",
     "text": [
      "Nice!\n"
     ]
    }
   ],
   "source": [
    "#第一题\n",
    "def naughty_or_nice(data):\n",
    "    naughty_count = 0\n",
    "    nice_count = 0\n",
    "\n",
    "    for month in data:\n",
    "        for day in data[month]:\n",
    "            if data[month][day] == 'Naughty':\n",
    "                naughty_count += 1\n",
    "            elif data[month][day] == 'Nice':\n",
    "                nice_count += 1\n",
    "\n",
    "    if nice_count >= naughty_count:\n",
    "        return \"Nice!\"\n",
    "    else:\n",
    "        return \"Naughty!\"\n",
    "\n",
    "# Example usage\n",
    "data = {\n",
    "    'January': {\n",
    "        '1': 'Naughty', '2': 'Naughty', '31': 'Nice'\n",
    "    },\n",
    "    'February': {\n",
    "        '1': 'Nice', '2': 'Naughty', '28': 'Nice'\n",
    "    },\n",
    "    'December': {\n",
    "        '1': 'Nice', '2': 'Nice', '31': 'Naughty'\n",
    "    }\n",
    "}\n",
    "\n",
    "result = naughty_or_nice(data)\n",
    "print(result)"
   ]
  },
  {
   "cell_type": "code",
   "execution_count": 2,
   "metadata": {},
   "outputs": [],
   "source": [
    "#第二题\n",
    "Dict = {'1':['1','2','4'], '2':['1','2','3','5'], '3':['2','3','6'], '4':['1','4','5','7'], \n",
    "        '5':['2','4','5','6','8'], '6':['3','5','6','9'], '7':['4','7','8'], '8':['5','7','8','9','0'], \n",
    "        '9':['6','8','9'], '0':['0','8']}\n",
    "\n",
    "def get_pins(observed):\n",
    "    if len(observed) == 1:\n",
    "        return Dict[observed]\n",
    "    else:\n",
    "        res  = []\n",
    "        first = observed[0]\n",
    "        rest = get_pins(observed[1:])\n",
    "        for each in Dict[first]:\n",
    "            for every in rest:\n",
    "             res.append(each+every)\n",
    "        \n",
    "        return res"
   ]
  },
  {
   "cell_type": "code",
   "execution_count": null,
   "metadata": {},
   "outputs": [],
   "source": [
    "\n",
    "#第三题\n",
    "\n",
    "PROTEIN_DICT = {\n",
    "    # Phenylalanine\n",
    "    'UUC': 'F', 'UUU': 'F',\n",
    "    # Leucine\n",
    "    'UUA': 'L', 'UUG': 'L', 'CUU': 'L', 'CUC': 'L', 'CUA': 'L', 'CUG': 'L',\n",
    "    # Isoleucine\n",
    "    'AUU': 'I', 'AUC': 'I', 'AUA': 'I',\n",
    "    # Methionine\n",
    "    'AUG': 'M',\n",
    "    # Valine\n",
    "    'GUU': 'V', 'GUC': 'V', 'GUA': 'V', 'GUG': 'V',\n",
    "    # Serine\n",
    "    'UCU': 'S', 'UCC': 'S', 'UCA': 'S', 'UCG': 'S', 'AGU': 'S', 'AGC': 'S',\n",
    "    # Proline\n",
    "    'CCU': 'P', 'CCC': 'P', 'CCA': 'P', 'CCG': 'P',\n",
    "    # Threonine\n",
    "    'ACU': 'T', 'ACC': 'T', 'ACA': 'T', 'ACG': 'T',\n",
    "    # Alanine\n",
    "    'GCU': 'A', 'GCC': 'A', 'GCA': 'A', 'GCG': 'A',\n",
    "    # Tyrosine\n",
    "    'UAU': 'Y', 'UAC': 'Y',\n",
    "    # Histidine\n",
    "    'CAU': 'H', 'CAC': 'H',\n",
    "    # Glutamine\n",
    "    'CAA': 'Q', 'CAG': 'Q',\n",
    "    # Asparagine\n",
    "    'AAU': 'N', 'AAC': 'N',\n",
    "    \n",
    "    # Lysine\n",
    "    'AAA': 'K', 'AAG': 'K',\n",
    "    # Aspartic Acid\n",
    "    'GAU': 'D', 'GAC': 'D',\n",
    "    # Glutamic Acid\n",
    "    'GAA': 'E', 'GAG': 'E',\n",
    "    # Cystine\n",
    "    'UGU': 'C', 'UGC': 'C',\n",
    "    # Tryptophan\n",
    "    'UGG': 'W',\n",
    "    # Arginine\n",
    "    'CGU': 'R', 'CGC': 'R', 'CGA': 'R', 'CGG': 'R', 'AGA': 'R', 'AGG': 'R',\n",
    "    # Glycine\n",
    "    'GGU': 'G', 'GGC': 'G', 'GGA': 'G', 'GGG': 'G',\n",
    "    # Stop codon\n",
    "    'UAA': 'Stop', 'UGA': 'Stop', 'UAG': 'Stop'\n",
    "}"
   ]
  },
  {
   "cell_type": "code",
   "execution_count": null,
   "metadata": {},
   "outputs": [],
   "source": [
    "#第三题\n",
    "def protein(rna):\n",
    "    # 从RNA链上三个字母一组成为一个密码子\n",
    "    codons = [rna[i:i+3] for i in range(0, len(rna), 3)]\n",
    "    chain = []\n",
    "    for codon in codons:\n",
    "        if PROTEIN_DICT[codon] != 'Stop':\n",
    "            chain.append(PROTEIN_DICT[codon])\n",
    "        else:\n",
    "            break\n",
    "    return ''.join(chain)\n",
    "print(protein('AUGGUUAGUUGA'))"
   ]
  },
  {
   "cell_type": "code",
   "execution_count": null,
   "metadata": {},
   "outputs": [],
   "source": [
    "#第四题\n",
    "def fillable(stock, merch, n):    \n",
    "    # 商品所对应的键可能不在字典中，所以要用get方法\n",
    "    # 不能用这个方法  stock[merch] >= n\n",
    "    return stock.get(merch, 0) >= n"
   ]
  },
  {
   "cell_type": "code",
   "execution_count": null,
   "metadata": {},
   "outputs": [],
   "source": [
    "#第五题\n",
    "MORSE_CODE['_'] = ' '\n",
    "\n",
    "def decodeBits(bits):\n",
    "    # 去掉开始的0和结尾的0\n",
    "    bits = bits.strip('0')\n",
    "    \n",
    "    # if no zeros in bits\n",
    "    if '0' not in bits:\n",
    "        return '.'\n",
    "    \n",
    "    # check for multiple bits per dot\n",
    "    minOnes = min(len(s) for s in bits.split('0') if s)\n",
    "    minZeros = min(len(s) for s in bits.split('1') if s)\n",
    "    m = min(minOnes, minZeros)\n",
    "    \n",
    "    # decode bits to morse code\n",
    "    return bits.replace('111'*m, '-').replace('0000000'*m, ' _ ').replace('000'*m, ' ').replace('1'*m, '.').replace('0'*m, '')\n",
    "\n",
    "def decodeMorse(morseCode):\n",
    "    # decode morse code to letters\n",
    "    return ''.join(MORSE_CODE[c] for c in morseCode.split())"
   ]
  }
 ],
 "metadata": {
  "kernelspec": {
   "display_name": "Python 3",
   "language": "python",
   "name": "python3"
  },
  "language_info": {
   "codemirror_mode": {
    "name": "ipython",
    "version": 3
   },
   "file_extension": ".py",
   "mimetype": "text/x-python",
   "name": "python",
   "nbconvert_exporter": "python",
   "pygments_lexer": "ipython3",
   "version": "3.13.0"
  }
 },
 "nbformat": 4,
 "nbformat_minor": 2
}
